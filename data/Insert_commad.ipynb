{
 "cells": [
  {
   "cell_type": "code",
   "execution_count": 1,
   "metadata": {
    "collapsed": true
   },
   "outputs": [],
   "source": [
    "# from bs4 import BeautifulSoup\n",
    "# import requests\n",
    "# import pandas as pd\n",
    "# url = 'https://www.sec.gov/cgi-bin/browse-edgar?CIK=0000066740&action=getcompany'\n",
    "# res = requests.get(url)\n",
    "# soup = BeautifulSoup(res.text, 'lxml')\n",
    "# tables = soup.select('table')\n",
    "# df_list = []\n",
    "# for table in tables:\n",
    "#     df_list.append(pd.concat(pd.read_html(table.prettify())))\n",
    "# df = pd.concat(df_list)\n",
    "# df.to_excel('report.xlsx')"
   ]
  },
  {
   "cell_type": "code",
   "execution_count": 10,
   "metadata": {
    "collapsed": true
   },
   "outputs": [],
   "source": [
    "import pandas as pd\n",
    "import numpy as np\n",
    "filename = \"REPORT\"\n",
    "data = pd.read_excel(\"/Users/bai/Desktop/courses/Databases/Final Project/data/\"+filename+\".xlsx\")\n",
    "\n",
    "output = open(filename+\".txt\", \"w\")\n",
    "N, d = data.shape\n",
    "begin = \"insert into \" + filename + \" values (\"\n",
    "for i in range(N):\n",
    "    command = begin\n",
    "    for j in range(d):\n",
    "        if pd.isnull(data.iloc[i,j]):\n",
    "            break\n",
    "        if j == d-1:\n",
    "            command += \"'\" + str(data.iloc[i,j]) + \"');\\n\"\n",
    "            output.write(command)\n",
    "        else:\n",
    "            if np.isreal(data.iloc[i,j]):\n",
    "                command += \"'\" + str(data.iloc[i,j]) + \"', \"\n",
    "            else:\n",
    "                command += \"'\" + str(data.iloc[i,j]) + \"', \"\n",
    "output.close()"
   ]
  },
  {
   "cell_type": "code",
   "execution_count": 3,
   "metadata": {
    "collapsed": true
   },
   "outputs": [],
   "source": [
    "import pandas as pd\n",
    "import numpy as np\n",
    "filename = \"SECURITY\"\n",
    "data = pd.read_excel(\"/Users/bai/Desktop/courses/Databases/Final Project/data/\"+filename+\".xlsx\")\n",
    "\n",
    "output = open(filename+\"_web.txt\", \"w\")\n",
    "N, d = data.shape\n",
    "begin = \"<option value =\"\n",
    "for i in range(N):\n",
    "    command = begin\n",
    "    for j in range(d):\n",
    "        if j == 0:\n",
    "            command += \"\\\"\" + str(data.iloc[i,j]) + \"\\\">\" + str(data.iloc[i,j]) + \"</option>\\n\";\n",
    "            output.write(command)\n",
    "output.close()"
   ]
  },
  {
   "cell_type": "code",
   "execution_count": 1,
   "metadata": {},
   "outputs": [
    {
     "name": "stdout",
     "output_type": "stream",
     "text": [
      "\"\n"
     ]
    }
   ],
   "source": [
    "print(\"\\\"\")"
   ]
  },
  {
   "cell_type": "code",
   "execution_count": null,
   "metadata": {
    "collapsed": true
   },
   "outputs": [],
   "source": []
  }
 ],
 "metadata": {
  "kernelspec": {
   "display_name": "Python 3",
   "language": "python",
   "name": "python3"
  },
  "language_info": {
   "codemirror_mode": {
    "name": "ipython",
    "version": 3
   },
   "file_extension": ".py",
   "mimetype": "text/x-python",
   "name": "python",
   "nbconvert_exporter": "python",
   "pygments_lexer": "ipython3",
   "version": "3.6.2"
  }
 },
 "nbformat": 4,
 "nbformat_minor": 2
}
